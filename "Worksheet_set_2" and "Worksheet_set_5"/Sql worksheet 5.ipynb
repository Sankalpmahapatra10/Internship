{
 "cells": [
  {
   "cell_type": "markdown",
   "id": "e0bc2179",
   "metadata": {},
   "source": [
    "Refer the following ERD and answer all the questions in this worksheet. You have to write the queries using MySQL for the required Operation.\n",
    "\n",
    "Table Explanations:\n",
    "•\tThe movie table contains information about each movie. There are text descriptions such as title and overview. Some fields are more obvious than others: revenue (the amount of money the movie made), budget (the amount spent on creating the movie). Other fields are calculated based on data used to create the data source: popularity, votes_avg, and votes_count. The status indicates if the movie is Released, Rumoured, or in Post-Production.\n",
    "•\tThe country list contains a list of different countries, and the movie_country table contains a record of which countries a movie was filmed in (because some movies are filmed in multiple countries). This is a standard many-to-many table, and you’ll find these in a lot of databases.\n",
    "•\tThe same concept applies to the production_company table. There is a list of production companies and a many-to-many relationship with movies which is captured in the movie_company table.\n",
    "•\tThe languages table has a list of languages, and the movie_languages captures a list of languages in a movie. The difference with this structure is the addition of a language_role table.\n",
    "•\tThis language_role table contains two records: Original and Spoken. A movie can have an original language (e.g. English), but many Spoken languages. This is captured in the movie_languages table along with a role.\n",
    "•\tGenres define which category a movie fits into, such as Comedy or Horror. A movie can have multiple genres, which is why the movie_genres table exists.\n",
    " \n",
    "•\tThe same concept applies to keywords, but there are a lot more keywords than genres. I’m not sure what qualifies as a keyword, but you can explore the data and take a look. Some examples as “paris”, “gunslinger”, or “saving the world”.\n",
    "•\tThe cast and crew section of the database is a little more complicated. Actors, actresses, and crew members are all people, playing different roles in a movie. Rather than have separate lists of names for crew and cast, this database contains a table called person, which has each person’s name.\n",
    "•\tThe movie_cast table contains records of each person in a movie as a cast member. It has their character name, along with the cast_order, which I believe indicates that lower numbers appear higher on the cast list.\n",
    "•\tThe movie_cast table also links to the gender table, to indicate the gender of each character. The gender is linked to the movie_cast table rather than the person table to cater for characters which may be a different gender than the person, or characters of unknown gender. This means that there is no gender table linked to the person table, but that’s because of the sample data.\n",
    "•\tThe movie_crew table follows a similar concept and stores all crew members for all movies. Each crew member has a job, which is part of a department (e.g. Camera).\n"
   ]
  },
  {
   "cell_type": "markdown",
   "id": "78687274",
   "metadata": {},
   "source": [
    "1.Write SQL query to show all the data in the Movie table."
   ]
  },
  {
   "cell_type": "code",
   "execution_count": null,
   "id": "23846ff0",
   "metadata": {},
   "outputs": [],
   "source": [
    "Select * from movie;"
   ]
  },
  {
   "cell_type": "markdown",
   "id": "ce08127c",
   "metadata": {},
   "source": [
    "2.Write SQL query to show the title of the longest runtime movie.\n"
   ]
  },
  {
   "cell_type": "code",
   "execution_count": null,
   "id": "fb480b49",
   "metadata": {},
   "outputs": [],
   "source": [
    "Select title from movie order by runtime desc limit 1;"
   ]
  },
  {
   "cell_type": "markdown",
   "id": "98d2954a",
   "metadata": {},
   "source": [
    "3.Write SQL query to show the highest revenue generating movie title.\n"
   ]
  },
  {
   "cell_type": "code",
   "execution_count": null,
   "id": "b653fd72",
   "metadata": {},
   "outputs": [],
   "source": [
    "Select title from movie order by revenue desc limit 1;"
   ]
  },
  {
   "cell_type": "markdown",
   "id": "696816a0",
   "metadata": {},
   "source": [
    "4.Write SQL query to show the movie title with maximum value of revenue/budget.\n"
   ]
  },
  {
   "cell_type": "code",
   "execution_count": null,
   "id": "37080e18",
   "metadata": {},
   "outputs": [],
   "source": [
    "Select title from movie order by budget desc limit 1;"
   ]
  },
  {
   "cell_type": "markdown",
   "id": "acd5bdd6",
   "metadata": {},
   "source": [
    "5.Write a SQL query to show the movie title and its cast details like name of the person, gender, character name, cast order.\n"
   ]
  },
  {
   "cell_type": "code",
   "execution_count": null,
   "id": "f4df5d37",
   "metadata": {},
   "outputs": [],
   "source": [
    "Select title, gender, character_name, cast_order, person_name from movie a inner join movie_cast b on a.movie_id=b.movie_id inner join gender c on c.gender_id=b.gender_id inner join person d on d.person_id= b.person_id;"
   ]
  },
  {
   "cell_type": "markdown",
   "id": "d294827c",
   "metadata": {},
   "source": [
    "6.Write a SQL query to show the country name where maximum number of movies has been produced, along with the number of movies produced.\n"
   ]
  },
  {
   "cell_type": "code",
   "execution_count": null,
   "id": "5b47298e",
   "metadata": {},
   "outputs": [],
   "source": [
    "Select country_name, count(country_name) as count from country as a inner join production_country as b on b.country_id=a.country_id group by country_name order by count desc limit 1;"
   ]
  },
  {
   "cell_type": "markdown",
   "id": "331f158f",
   "metadata": {},
   "source": [
    "7.Write a SQL query to show all the genre_id in one column and genre_name in second column.\n"
   ]
  },
  {
   "cell_type": "code",
   "execution_count": null,
   "id": "b751fe43",
   "metadata": {},
   "outputs": [],
   "source": [
    "Select * from genre;"
   ]
  },
  {
   "cell_type": "markdown",
   "id": "92fcd829",
   "metadata": {},
   "source": [
    "8.Write a SQL query to show name of all the languages in one column and number of movies in that particular column in another column.\n"
   ]
  },
  {
   "cell_type": "code",
   "execution_count": null,
   "id": "6c91fc15",
   "metadata": {},
   "outputs": [],
   "source": [
    "Select language_name,movie_id,count(language_name) from movie_languages as a join language as b on a.language_id=b.language_id group by language_name order by count(language_name) desc;"
   ]
  },
  {
   "cell_type": "markdown",
   "id": "648570df",
   "metadata": {},
   "source": [
    "9.Write a SQL query to show movie name in first column, no. of crew members in second column and number of cast members in third column.\n"
   ]
  },
  {
   "cell_type": "code",
   "execution_count": null,
   "id": "26e33b5a",
   "metadata": {},
   "outputs": [],
   "source": [
    "Select m.title as movie_name, count(cr.person_id) as no_of_crews, count(ca.person_id) as no_of_cast from movie as m inner join movie_crew as cr on cr.movie_id=m.movie_id inner join movie_cast ca on ca.person_id=cr_person_id;"
   ]
  },
  {
   "cell_type": "markdown",
   "id": "3ef7aaa2",
   "metadata": {},
   "source": [
    "10.Write a SQL query to list top 10 movies title according to popularity column in decreasing order.\n"
   ]
  },
  {
   "cell_type": "code",
   "execution_count": null,
   "id": "d73a55eb",
   "metadata": {},
   "outputs": [],
   "source": [
    "Select title from movie order by popularity desc limit 10;"
   ]
  },
  {
   "cell_type": "markdown",
   "id": "209f59d0",
   "metadata": {},
   "source": [
    "11.Write a SQL query to show the name of the 3rd most revenue generating movie and its revenue.\n"
   ]
  },
  {
   "cell_type": "code",
   "execution_count": null,
   "id": "7f98f9d8",
   "metadata": {},
   "outputs": [],
   "source": [
    "Select title from movie order by revenue desc offset 3 limit 1;"
   ]
  },
  {
   "cell_type": "markdown",
   "id": "b16cf5f3",
   "metadata": {},
   "source": [
    "12.Write a SQL query to show the names of all the movies which have “rumoured” movie status.\n"
   ]
  },
  {
   "cell_type": "code",
   "execution_count": null,
   "id": "84d7c8da",
   "metadata": {},
   "outputs": [],
   "source": [
    "Select title from movie where movie_status like ‘rumored’;"
   ]
  },
  {
   "cell_type": "markdown",
   "id": "30a455d4",
   "metadata": {},
   "source": [
    "13.Write a SQL query to show the name of the “United States of America” produced movie which generated maximum revenue.\n"
   ]
  },
  {
   "cell_type": "code",
   "execution_count": null,
   "id": "5f2f6449",
   "metadata": {},
   "outputs": [],
   "source": [
    "Select title, revenue from movie a inner join production_country b on b.movie_id = a.movie_id inner join country c on c.country_id = b. country_id where country_name= ‘United State of America’;"
   ]
  },
  {
   "cell_type": "markdown",
   "id": "4b9eb3dd",
   "metadata": {},
   "source": [
    "14.Write a SQL query to print the movie_id in one column and name of the production company in the second column for all the movies.\n"
   ]
  },
  {
   "cell_type": "code",
   "execution_count": null,
   "id": "a12a4ba5",
   "metadata": {},
   "outputs": [],
   "source": [
    "Select m.movie_id, pc.company_name from movie m inner join movie_company mc on mc.movie_id = m.movie_id inner join production_company pc on pc.company_id =mc.company_id;"
   ]
  },
  {
   "cell_type": "markdown",
   "id": "1ecb40b3",
   "metadata": {},
   "source": [
    "15.Write a SQL query to show the title of top 20 movies arranged in decreasing order of their budget.\n"
   ]
  },
  {
   "cell_type": "code",
   "execution_count": null,
   "id": "f7ab2f6b",
   "metadata": {},
   "outputs": [],
   "source": [
    "Select title from movie order by budget desc limit 20;"
   ]
  },
  {
   "cell_type": "code",
   "execution_count": null,
   "id": "7fec3278",
   "metadata": {},
   "outputs": [],
   "source": []
  },
  {
   "cell_type": "code",
   "execution_count": null,
   "id": "6761423f",
   "metadata": {},
   "outputs": [],
   "source": []
  }
 ],
 "metadata": {
  "kernelspec": {
   "display_name": "Python 3 (ipykernel)",
   "language": "python",
   "name": "python3"
  },
  "language_info": {
   "codemirror_mode": {
    "name": "ipython",
    "version": 3
   },
   "file_extension": ".py",
   "mimetype": "text/x-python",
   "name": "python",
   "nbconvert_exporter": "python",
   "pygments_lexer": "ipython3",
   "version": "3.9.7"
  }
 },
 "nbformat": 4,
 "nbformat_minor": 5
}
