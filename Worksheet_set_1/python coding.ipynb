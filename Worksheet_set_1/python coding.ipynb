{
 "cells": [
  {
   "cell_type": "code",
   "execution_count": null,
   "id": "b84cb6e3",
   "metadata": {},
   "outputs": [],
   "source": [
    "11.Write a python program to find the factorial of a number."
   ]
  },
  {
   "cell_type": "code",
   "execution_count": 2,
   "id": "013b0c7d",
   "metadata": {},
   "outputs": [
    {
     "name": "stdout",
     "output_type": "stream",
     "text": [
      "The factorial of 8 is 40320\n"
     ]
    }
   ],
   "source": [
    "Num = 8\n",
    "Fact = 1\n",
    "if Num < 0:\n",
    "    print(\"factorial of negative numbers is not possible\")\n",
    "elif Num == 0:\n",
    "    print(\"Factorial is 1\")\n",
    "else:\n",
    "    for x in range(1, Num + 1):\n",
    "        Fact = Fact * x\n",
    "    print(\"The factorial of\",Num,\"is\",Fact)"
   ]
  },
  {
   "cell_type": "code",
   "execution_count": null,
   "id": "dcab3d48",
   "metadata": {},
   "outputs": [],
   "source": [
    "12.Write a python program to find whether a number is prime or composite."
   ]
  },
  {
   "cell_type": "code",
   "execution_count": 8,
   "id": "5e6bb2b1",
   "metadata": {},
   "outputs": [
    {
     "name": "stdout",
     "output_type": "stream",
     "text": [
      "Enter a positive number : 2\n",
      "2 is a prime number\n"
     ]
    }
   ],
   "source": [
    "numb = int(input(\"Enter a positive number : \"))\n",
    "if numb > 1:\n",
    "    for x in range(2, numb):\n",
    "        if (numb % i) == 0:\n",
    "            print(num, \"is not a prime number\")\n",
    "            break\n",
    "    else:\n",
    "        print(numb, \"is a prime number\")\n",
    "elif num == 0 or 1:\n",
    "    print(numb, \"is  neithera prime nor a composite number\")\n",
    "else:\n",
    "    print(numb, \"is not a prime number but a composite number\")"
   ]
  },
  {
   "cell_type": "code",
   "execution_count": null,
   "id": "48b92151",
   "metadata": {},
   "outputs": [],
   "source": [
    "13.Write a python program to check whether a given string is palindrome or not."
   ]
  },
  {
   "cell_type": "code",
   "execution_count": 12,
   "id": "a423186a",
   "metadata": {},
   "outputs": [
    {
     "name": "stdout",
     "output_type": "stream",
     "text": [
      "The given string is not a palindrome.\n"
     ]
    }
   ],
   "source": [
    "\n",
    "gi_str = 'sankalp123'\n",
    "\n",
    "\n",
    "gi_str = gi_str.casefold()\n",
    "\n",
    "revr_str = reversed(gi_str)\n",
    "\n",
    "if list(gi_str) == list(revr_str):\n",
    "   print(\"The given string is a palindrome.\")\n",
    "else:\n",
    "   print(\"The given string is not a palindrome.\")"
   ]
  },
  {
   "cell_type": "code",
   "execution_count": null,
   "id": "1b3a9107",
   "metadata": {},
   "outputs": [],
   "source": [
    "14.Write a Python program to get the third side of right-angled triangle from two given sides."
   ]
  },
  {
   "cell_type": "code",
   "execution_count": 13,
   "id": "ed6476f8",
   "metadata": {},
   "outputs": [
    {
     "name": "stdout",
     "output_type": "stream",
     "text": [
      "Enter base: 12\n",
      "Enter height: 32\n",
      "Enter angle: 90\n",
      "Hypotenuse = 34.17601498127012\n"
     ]
    }
   ],
   "source": [
    "import math\n",
    "\n",
    "s1 = float(input(\"Enter base: \"))\n",
    "s2 = float(input(\"Enter height: \"))\n",
    "a = float(input(\"Enter angle: \"))\n",
    "\n",
    "h = math.sqrt(s1 ** 2 + s2 ** 2)\n",
    "\n",
    "print(\"Hypotenuse =\", h)"
   ]
  },
  {
   "cell_type": "code",
   "execution_count": null,
   "id": "ed286dd7",
   "metadata": {},
   "outputs": [],
   "source": [
    "15.Write a python program to print the frequency of each of the characters present in a given string."
   ]
  },
  {
   "cell_type": "code",
   "execution_count": 14,
   "id": "3f6c2a24",
   "metadata": {},
   "outputs": [
    {
     "name": "stdout",
     "output_type": "stream",
     "text": [
      "Please enter the string: lieutenant\n",
      "{'l': 1, 'i': 1, 'e': 2, 'u': 1, 't': 2, 'n': 2, 'a': 1}\n"
     ]
    }
   ],
   "source": [
    "str_1 = input (\"Please enter the string: \")\n",
    "d = dict()\n",
    "for x in str_1:\n",
    "    if x in d:\n",
    "        d[x] = d[x] + 1\n",
    "    else:\n",
    "        d[x] = 1\n",
    "print(d)"
   ]
  },
  {
   "cell_type": "code",
   "execution_count": null,
   "id": "09fbcefb",
   "metadata": {},
   "outputs": [],
   "source": []
  }
 ],
 "metadata": {
  "kernelspec": {
   "display_name": "Python 3 (ipykernel)",
   "language": "python",
   "name": "python3"
  },
  "language_info": {
   "codemirror_mode": {
    "name": "ipython",
    "version": 3
   },
   "file_extension": ".py",
   "mimetype": "text/x-python",
   "name": "python",
   "nbconvert_exporter": "python",
   "pygments_lexer": "ipython3",
   "version": "3.9.7"
  }
 },
 "nbformat": 4,
 "nbformat_minor": 5
}
